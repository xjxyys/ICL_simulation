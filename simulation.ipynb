{
 "cells": [
  {
   "cell_type": "code",
   "execution_count": 1,
   "metadata": {},
   "outputs": [
    {
     "data": {
      "text/plain": [
       "'[(21, 5), (14, 8)]'"
      ]
     },
     "execution_count": 1,
     "metadata": {},
     "output_type": "execute_result"
    }
   ],
   "source": [
    "from SimulationSrc import *\n",
    "import openai\n",
    "from dotenv import load_dotenv\n",
    "\n",
    "load_dotenv('.env')\n",
    "openai.api_key = os.getenv(\"OPENAI_API_KEY\")\n",
    "# print(openai.api_key)\n",
    "# os.environ['http_proxy'] = 'http://127.0.0.1:7890'\n",
    "# os.environ['https_proxy'] = 'https://127.0.0.1:7890'\n",
    "\n",
    "sl = NewsboySimulator()\n",
    "sl.simulate(2)\n",
    "str(sl.simulate(2))"
   ]
  },
  {
   "cell_type": "code",
   "execution_count": 2,
   "metadata": {},
   "outputs": [
    {
     "name": "stdout",
     "output_type": "stream",
     "text": [
      "finish 1 1\n",
      "finish 1 2\n",
      "finish 1 3\n",
      "finish 1 4\n",
      "finish 1 5\n",
      "finish 1 6\n",
      "finish 1 7\n",
      "finish 1 8\n",
      "finish 1 9\n",
      "finish 1 10\n",
      "finish 1 11\n",
      "finish 1 12\n",
      "finish 1 13\n",
      "finish 1 14\n",
      "finish 1 15\n",
      "finish 1 16\n",
      "finish 1 17\n",
      "finish 1 18\n",
      "finish 1 19\n",
      "finish 1 20\n",
      "finish 2 1\n",
      "finish 2 2\n",
      "finish 2 3\n"
     ]
    }
   ],
   "source": [
    "results = []\n",
    "# 共告知day天的数据\n",
    "for day in range(1, 6):\n",
    "    # 重复模拟20次\n",
    "    for idx in range(1, 21):\n",
    "        sl = NewsboySimulator()\n",
    "        data = sl.simulate(day)\n",
    "        DemandLambda = sl.get_DemandLambda()\n",
    "        OrderLambda = sl.get_OrderLambda()\n",
    "        # 用三种方式推断最佳订货量\n",
    "        poissonInfer = PoissonInfer(data)\n",
    "        poissonresult = poissonInfer.infer()\n",
    "        \n",
    "        empricalInfer = EmpiricalInfer(data)\n",
    "        empricalresult = empricalInfer.infer()\n",
    "\n",
    "        chatGPTInfer = ChatGPTInfer(data)\n",
    "        chatGPTresult = chatGPTInfer.infer()\n",
    "\n",
    "        results.append([day, idx, DemandLambda, OrderLambda, poissonresult, empricalresult, chatGPTresult])\n",
    "        print('finish', day, idx)\n",
    "# 保存结果\n",
    "import csv\n",
    "with open('results.csv', 'w', newline='') as csvfile:\n",
    "    writer = csv.writer(csvfile)\n",
    "    writer.writerow(['day', 'idx', 'poisson', 'emprical', 'chatGPT'])\n",
    "    for row in results:\n",
    "        writer.writerow(row)\n",
    "\n"
   ]
  },
  {
   "cell_type": "code",
   "execution_count": null,
   "metadata": {},
   "outputs": [],
   "source": []
  }
 ],
 "metadata": {
  "kernelspec": {
   "display_name": "base",
   "language": "python",
   "name": "python3"
  },
  "language_info": {
   "codemirror_mode": {
    "name": "ipython",
    "version": 3
   },
   "file_extension": ".py",
   "mimetype": "text/x-python",
   "name": "python",
   "nbconvert_exporter": "python",
   "pygments_lexer": "ipython3",
   "version": "3.10.9"
  }
 },
 "nbformat": 4,
 "nbformat_minor": 2
}
