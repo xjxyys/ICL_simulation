{
 "cells": [
  {
   "cell_type": "code",
   "execution_count": 1,
   "id": "411d9c13",
   "metadata": {},
   "outputs": [],
   "source": [
    "\n",
    "import numpy as np\n",
    "\n",
    "\n",
    "def grad(x,Lambda,c,k):\n",
    "    numer = 0\n",
    "    denom = np.exp(Lambda)\n",
    "    tmp = [1]\n",
    "    for i in range(1,c+1):\n",
    "        tmp.append(tmp[-1]*Lambda/i)\n",
    "    for i in range(1,c+1):\n",
    "        numer += (i-Lambda)*tmp[i]/Lambda\n",
    "        denom -= tmp[i]\n",
    "\n",
    "    return  -k * numer/denom + np.sum(x[:len(x) - k])/Lambda - (len(x) - k)\n",
    "\n",
    "\n",
    "def solve(x,c,k,err= 1e-4, eta = 1e-2,    rho = 0):\n",
    "    lambda0 = np.mean(real_observation) \n",
    "    tmp = 1\n",
    "    step = 0\n",
    "\n",
    "\n",
    "    while tmp > err:\n",
    "        step += 1\n",
    "        g = grad(x,lambda0,c,k)\n",
    "        lambda0 = lambda0 + eta * (g - rho * lambda0)\n",
    "        tmp = np.abs(g - rho * lambda0)\n",
    "        if step % 1000 == 0:\n",
    "            print(tmp)\n",
    "    return lambda0\n",
    "\n"
   ]
  },
  {
   "cell_type": "code",
   "execution_count": null,
   "id": "b6e5ba60",
   "metadata": {},
   "outputs": [],
   "source": []
  },
  {
   "cell_type": "code",
   "execution_count": 6,
   "id": "248bb7d8",
   "metadata": {},
   "outputs": [
    {
     "name": "stdout",
     "output_type": "stream",
     "text": [
      "2 6.349574652527214 1.0 96\n",
      "3 6.344195758974914 1.6 90\n",
      "4 6.196872245891121 2.3333333333333335 79\n",
      "5 5.556937697389973 3.2222222222222223 55\n",
      "6 5.141994468593644 3.823529411764706 32\n",
      "7 4.930447769549166 4.216867469879518 17\n",
      "8 4.851323633855133 4.433333333333334 10\n",
      "9 4.788233046222979 4.548387096774194 7\n",
      "10 4.742667072447123 4.6875 4\n",
      "11 4.844161869755975 4.848484848484849 1\n",
      "12 4.91 4.91 0\n",
      "13 4.91 4.91 0\n",
      "14 4.91 4.91 0\n",
      "15 4.91 4.91 0\n",
      "16 4.91 4.91 0\n",
      "17 4.91 4.91 0\n",
      "18 4.91 4.91 0\n",
      "19 4.91 4.91 0\n"
     ]
    }
   ],
   "source": [
    "Lambda = 5\n",
    "sample = np.random.poisson(Lambda, 100)\n",
    "for c in range(2,20):\n",
    "\n",
    "\n",
    "    real_observation = np.minimum(sample, np.ones_like(sample)*c)\n",
    "\n",
    "    censored_num = np.sum(real_observation == np.ones_like(sample)*c)\n",
    "    \n",
    "\n",
    "    real_observation.sort()\n",
    "    \n",
    "    res0 = solve(real_observation,c, censored_num)\n",
    "    res1 = np.mean(real_observation[:len(real_observation) - censored_num])\n",
    "    \n",
    "    print(c,res0,res1,censored_num)"
   ]
  },
  {
   "cell_type": "code",
   "execution_count": 7,
   "id": "6d06005e",
   "metadata": {},
   "outputs": [
    {
     "name": "stdout",
     "output_type": "stream",
     "text": [
      "4.91 4.91\n"
     ]
    }
   ],
   "source": [
    "print(res0,res1)"
   ]
  },
  {
   "cell_type": "code",
   "execution_count": 8,
   "id": "953504e9",
   "metadata": {},
   "outputs": [
    {
     "data": {
      "text/plain": [
       "4.91"
      ]
     },
     "execution_count": 8,
     "metadata": {},
     "output_type": "execute_result"
    }
   ],
   "source": [
    "np.mean(real_observation[:len(real_observation) - censored_num])"
   ]
  },
  {
   "cell_type": "code",
   "execution_count": 4,
   "id": "b264f254",
   "metadata": {},
   "outputs": [
    {
     "name": "stdout",
     "output_type": "stream",
     "text": [
      "5.0\n"
     ]
    }
   ],
   "source": [
    "# 用一组点估计, real\n",
    "real_observation = [5]\n",
    "c = 6\n",
    "censored_num = 0\n",
    "res_test = solve(real_observation,c, censored_num)\n",
    "print(res_test)"
   ]
  },
  {
   "cell_type": "code",
   "execution_count": null,
   "id": "4b4f8eb2",
   "metadata": {},
   "outputs": [],
   "source": []
  }
 ],
 "metadata": {
  "kernelspec": {
   "display_name": "Python 3 (ipykernel)",
   "language": "python",
   "name": "python3"
  },
  "language_info": {
   "codemirror_mode": {
    "name": "ipython",
    "version": 3
   },
   "file_extension": ".py",
   "mimetype": "text/x-python",
   "name": "python",
   "nbconvert_exporter": "python",
   "pygments_lexer": "ipython3",
   "version": "3.9.12"
  }
 },
 "nbformat": 4,
 "nbformat_minor": 5
}
