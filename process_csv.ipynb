{
 "cells": [
  {
   "cell_type": "code",
   "execution_count": 2,
   "metadata": {},
   "outputs": [
    {
     "ename": "ValueError",
     "evalue": "invalid literal for int() with base 10: \"To determine the optimal order quantity for the next day based on the given historical orders and demands, along with the costs of overstocking and understocking, we first need to evaluate the conseq",
     "output_type": "error",
     "traceback": [
      "\u001b[1;31m---------------------------------------------------------------------------\u001b[0m",
      "\u001b[1;31mValueError\u001b[0m                                Traceback (most recent call last)",
      "Input \u001b[1;32mIn [2]\u001b[0m, in \u001b[0;36m<cell line: 8>\u001b[1;34m()\u001b[0m\n\u001b[0;32m     11\u001b[0m poisson_order \u001b[38;5;241m=\u001b[39m \u001b[38;5;28mint\u001b[39m(row[\u001b[38;5;124m'\u001b[39m\u001b[38;5;124mpoisson\u001b[39m\u001b[38;5;124m'\u001b[39m])\n\u001b[0;32m     12\u001b[0m emprical_order \u001b[38;5;241m=\u001b[39m \u001b[38;5;28mint\u001b[39m(row[\u001b[38;5;124m'\u001b[39m\u001b[38;5;124memprical\u001b[39m\u001b[38;5;124m'\u001b[39m])\n\u001b[1;32m---> 13\u001b[0m chatGPT_order \u001b[38;5;241m=\u001b[39m \u001b[38;5;28;43mint\u001b[39;49m\u001b[43m(\u001b[49m\u001b[43mrow\u001b[49m\u001b[43m[\u001b[49m\u001b[38;5;124;43m'\u001b[39;49m\u001b[38;5;124;43mchatGPT\u001b[39;49m\u001b[38;5;124;43m'\u001b[39;49m\u001b[43m]\u001b[49m\u001b[43m)\u001b[49m\n\u001b[0;32m     15\u001b[0m poisson_cost \u001b[38;5;241m=\u001b[39m get_average_cost(poisson_order, DemandLambda)\n\u001b[0;32m     16\u001b[0m emprical_cost \u001b[38;5;241m=\u001b[39m get_average_cost(emprical_order, DemandLambda)\n",
      "\u001b[1;31mValueError\u001b[0m: invalid literal for int() with base 10: \"To determine the optimal order quantity for the next day based on the given historical orders and demands, along with the costs of overstocking and understocking, we first need to evaluate the conseq"
     ]
    }
   ],
   "source": [
    "import pandas as pd\n",
    "from SimulationSrc import *\n",
    "df = pd.read_csv('results_cleaned.csv')\n",
    "# 把ChatGPT列中为'None'的行删除\n",
    "df = df[df['chatGPT'] != 'None']\n",
    "# 遍历每一行\n",
    "# day,idx,DemandLambda,OrderLambda,poisson,emprical,chatGPT\n",
    "for index, row in df.iterrows():\n",
    "    DemandLambda = float(row['DemandLambda'])\n",
    "\n",
    "    poisson_order = int(row['poisson'])\n",
    "    emprical_order = int(row['emprical'])\n",
    "    chatGPT_order = int(row['chatGPT'])\n",
    "\n",
    "    poisson_cost = get_average_cost(poisson_order, DemandLambda)\n",
    "    emprical_cost = get_average_cost(emprical_order, DemandLambda)\n",
    "    chatGPT_cost = get_average_cost(chatGPT_order, DemandLambda)\n",
    "\n",
    "\n",
    "    # 把三种方法的cost和ChatGPT是否beat了poisson和emprical写入csv\n",
    "    df.at[index, 'poisson_cost'] = poisson_cost\n",
    "    df.at[index, 'emprical_cost'] = emprical_cost\n",
    "    df.at[index, 'ChatGPT_cost'] = chatGPT_cost\n",
    "\n",
    "    # 判断ChatGPT是否beat了poisson和emprical\n",
    "    if chatGPT_cost <= poisson_cost:\n",
    "        df.at[index, 'ChatGPT_beat_poisson'] = 1\n",
    "    else:\n",
    "        df.at[index, 'ChatGPT_beat_poisson'] = 0\n",
    "    if chatGPT_cost <= emprical_cost:\n",
    "        df.at[index, 'ChatGPT_beat_emprical'] = 1\n",
    "    else:\n",
    "        df.at[index, 'ChatGPT_beat_emprical'] = 0\n",
    "df.to_csv('results_with_cost.csv', index=False)"
   ]
  },
  {
   "cell_type": "code",
   "execution_count": null,
   "metadata": {},
   "outputs": [],
   "source": []
  }
 ],
 "metadata": {
  "kernelspec": {
   "display_name": "base",
   "language": "python",
   "name": "python3"
  },
  "language_info": {
   "codemirror_mode": {
    "name": "ipython",
    "version": 3
   },
   "file_extension": ".py",
   "mimetype": "text/x-python",
   "name": "python",
   "nbconvert_exporter": "python",
   "pygments_lexer": "ipython3",
   "version": "3.9.12"
  }
 },
 "nbformat": 4,
 "nbformat_minor": 2
}
