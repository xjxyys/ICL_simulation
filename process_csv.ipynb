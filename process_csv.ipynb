{
 "cells": [
  {
   "cell_type": "code",
   "execution_count": 5,
   "metadata": {},
   "outputs": [],
   "source": [
    "import pandas as pd\n",
    "from SimulationSrc import *\n",
    "df = pd.read_csv('results_cleaned.csv')\n",
    "# 把ChatGPT列中为'None'的行删除\n",
    "df = df[df['chatGPT'] != 'None']\n",
    "# 遍历每一行\n",
    "# day,idx,DemandLambda,OrderLambda,poisson,emprical,chatGPT\n",
    "for index, row in df.iterrows():\n",
    "    DemandLambda = float(row['DemandLambda'])\n",
    "\n",
    "    poisson_order = int(row['poisson'])\n",
    "    emprical_order = int(row['emprical'])\n",
    "    chatGPT_order = int(row['chatGPT'])\n",
    "\n",
    "    poisson_cost = get_average_cost(poisson_order, DemandLambda)\n",
    "    emprical_cost = get_average_cost(emprical_order, DemandLambda)\n",
    "    chatGPT_cost = get_average_cost(chatGPT_order, DemandLambda)\n",
    "\n",
    "\n",
    "    # 把三种方法的cost和ChatGPT是否beat了poisson和emprical写入csv\n",
    "    df.at[index, 'poisson_cost'] = poisson_cost\n",
    "    df.at[index, 'emprical_cost'] = emprical_cost\n",
    "    df.at[index, 'ChatGPT_cost'] = chatGPT_cost\n",
    "\n",
    "    # 判断ChatGPT是否beat了poisson和emprical\n",
    "    if chatGPT_cost < poisson_cost:\n",
    "        df.at[index, 'ChatGPT_beat_poisson'] = 1\n",
    "    if chatGPT_cost == poisson_cost:\n",
    "        df.at[index, 'ChatGPT_eqaul_poisson'] = 1\n",
    "\n",
    "    if chatGPT_cost < emprical_cost:\n",
    "        df.at[index, 'ChatGPT_beat_emprical'] = 1\n",
    "    if chatGPT_cost == emprical_cost:\n",
    "        df.at[index, 'ChatGPT_eqaul_emprical'] = 1\n",
    "        \n",
    "df.to_csv('results_with_cost.csv', index=False)"
   ]
  },
  {
   "cell_type": "code",
   "execution_count": null,
   "metadata": {},
   "outputs": [],
   "source": []
  }
 ],
 "metadata": {
  "kernelspec": {
   "display_name": "base",
   "language": "python",
   "name": "python3"
  },
  "language_info": {
   "codemirror_mode": {
    "name": "ipython",
    "version": 3
   },
   "file_extension": ".py",
   "mimetype": "text/x-python",
   "name": "python",
   "nbconvert_exporter": "python",
   "pygments_lexer": "ipython3",
   "version": "3.9.12"
  }
 },
 "nbformat": 4,
 "nbformat_minor": 2
}
